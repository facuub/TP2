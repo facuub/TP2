{
 "cells": [
  {
   "cell_type": "code",
   "execution_count": 75,
   "metadata": {},
   "outputs": [],
   "source": [
    "import pandas as pd\n",
    "import numpy as np\n",
    "import matplotlib.pyplot as plt\n",
    "import xgboost as xgb\n",
    "from sklearn.model_selection import train_test_split, RandomizedSearchCV\n",
    "from sklearn.metrics import roc_auc_score\n",
    "from sklearn.cross_validation import KFold\n",
    "from scipy import stats"
   ]
  },
  {
   "cell_type": "code",
   "execution_count": 76,
   "metadata": {},
   "outputs": [],
   "source": [
    "df = pd.read_csv('events_up_to_01062018.csv', low_memory = False, parse_dates = ['timestamp'], infer_datetime_format = True,\n",
    "                    dtype = {'event': 'category','condition': 'category','storage': 'category', 'color': 'category', 'staticpage': 'category', 'campaign_source': 'category', 'search_engine': 'category', 'channel': 'category', 'new_vs_returning': 'category', 'region': 'category', 'country': 'category', 'device_type': 'category'})\n",
    "labels = pd.read_csv('labels_training_set.csv', low_memory = False).set_index('person')"
   ]
  },
  {
   "cell_type": "code",
   "execution_count": 128,
   "metadata": {},
   "outputs": [],
   "source": [
    "dfPredictor = pd.DataFrame(df['person'].unique())\n",
    "dfPredictor.columns = ['person']\n",
    "dfPredictor = dfPredictor.set_index('person')\n",
    "\n",
    "#ult60Dias = df.loc[df['timestamp'] > pd.to_datetime('01-04-2018')]\n",
    "ult30Dias = df.loc[df['timestamp'] > pd.to_datetime('01-05-2018')]\n",
    "ult15Dias = df.loc[df['timestamp'] > pd.to_datetime('15-05-2018')]\n",
    "ult5Dias = df.loc[df['timestamp'] > pd.to_datetime('25-05-2018')]\n",
    "ultDia = df.loc[df['timestamp'] > pd.to_datetime('31-05-2018')]\n",
    "\n",
    "\n",
    "\n",
    "\n",
    "#\n",
    "#       Compras o conversiones\n",
    "#\n",
    "\n",
    "#checkoutsPorPersonaUlt60Dias = ult60Dias.loc[ult60Dias['event'] == 'checkout']['person'].value_counts().to_frame()\n",
    "#checkoutsPorPersonaUlt60Dias.columns = ['checkoutsUlt60Dias']\n",
    "#conversionesPorPersonaUlt60Dias = ult60Dias.loc[ult60Dias['event'] == 'conversion']['person'].value_counts().to_frame()\n",
    "#conversionesPorPersonaUlt60Dias.columns = ['conversionesUlt60Dias']\n",
    "\n",
    "checkoutsPorPersonaUlt30Dias = ult30Dias.loc[ult30Dias['event'] == 'checkout']['person'].value_counts().to_frame()\n",
    "checkoutsPorPersonaUlt30Dias.columns = ['checkoutsUlt30Dias']\n",
    "conversionesPorPersonaUlt30Dias = ult30Dias.loc[ult30Dias['event'] == 'conversion']['person'].value_counts().to_frame()\n",
    "conversionesPorPersonaUlt30Dias.columns = ['conversionesUlt30Dias']\n",
    "\n",
    "checkoutsPorPersonaUlt15Dias = ult15Dias.loc[ult15Dias['event'] == 'checkout']['person'].value_counts().to_frame()\n",
    "checkoutsPorPersonaUlt15Dias.columns = ['checkoutsUlt15Dias']\n",
    "conversionesPorPersonaUlt15Dias = ult15Dias.loc[ult15Dias['event'] == 'conversion']['person'].value_counts().to_frame()\n",
    "conversionesPorPersonaUlt15Dias.columns = ['conversionesUlt15Dias']\n",
    "\n",
    "checkoutsPorPersonaUlt5Dias = ult5Dias.loc[ult5Dias['event'] == 'checkout']['person'].value_counts().to_frame()\n",
    "checkoutsPorPersonaUlt5Dias.columns = ['checkoutsUlt5Dias']\n",
    "conversionesPorPersonaUlt5Dias = ult5Dias.loc[ult5Dias['event'] == 'conversion']['person'].value_counts().to_frame()\n",
    "conversionesPorPersonaUlt5Dias.columns = ['conversionesUlt5Dias']\n",
    "\n",
    "checkoutsPorPersonaUltDia = ultDia.loc[ultDia['event'] == 'checkout']['person'].value_counts().to_frame()\n",
    "checkoutsPorPersonaUltDia.columns = ['checkoutsUltDia']\n",
    "conversionesPorPersonaUltDia = ultDia.loc[ultDia['event'] == 'conversion']['person'].value_counts().to_frame()\n",
    "conversionesPorPersonaUltDia.columns = ['conversionesUltDia']\n",
    "\n",
    "#dfPredictor = dfPredictor.join(checkoutsPorPersonaUlt60Dias, how = 'left', on = 'person').fillna(value = 0)\n",
    "#dfPredictor = dfPredictor.join(conversionesPorPersonaUlt60Dias, how = 'left', on = 'person').fillna(value = 0)\n",
    "\n",
    "dfPredictor = dfPredictor.join(checkoutsPorPersonaUlt30Dias, how = 'left', on = 'person').fillna(value = 0)\n",
    "dfPredictor = dfPredictor.join(conversionesPorPersonaUlt30Dias, how = 'left', on = 'person').fillna(value = 0)\n",
    "\n",
    "dfPredictor = dfPredictor.join(checkoutsPorPersonaUlt15Dias, how = 'left', on = 'person').fillna(value = 0)\n",
    "dfPredictor = dfPredictor.join(conversionesPorPersonaUlt15Dias, how = 'left', on = 'person').fillna(value = 0)\n",
    "\n",
    "dfPredictor = dfPredictor.join(checkoutsPorPersonaUlt5Dias, how = 'left', on = 'person').fillna(value = 0)\n",
    "dfPredictor = dfPredictor.join(conversionesPorPersonaUlt5Dias, how = 'left', on = 'person').fillna(value = 0)\n",
    "\n",
    "dfPredictor = dfPredictor.join(checkoutsPorPersonaUltDia, how = 'left', on = 'person').fillna(value = 0)\n",
    "dfPredictor = dfPredictor.join(conversionesPorPersonaUltDia, how = 'left', on = 'person').fillna(value = 0)\n",
    "\n",
    "#\n",
    "#        Canal de origen\n",
    "#\n",
    "\n",
    "visitasUlt15Dias = ult15Dias.loc[ult15Dias['event'] == 'visited site']\n",
    "visitasUlt5Dias = ult5Dias.loc[ult5Dias['event'] == 'visited site']\n",
    "visitasUltDia = ultDia.loc[ultDia['event'] == 'visited site']\n",
    "\n",
    "# Pago\n",
    "\n",
    "paidUlt15Dias = visitasUlt15Dias.loc[visitasUlt15Dias['channel'] == 'Paid']['person'].value_counts().to_frame()\n",
    "paidUlt15Dias.columns = ['CanalPagoUlt15Dias']\n",
    "\n",
    "paidUlt5Dias = visitasUlt5Dias.loc[visitasUlt5Dias['channel'] == 'Paid']['person'].value_counts().to_frame()\n",
    "paidUlt5Dias.columns = ['CanalPagoUlt5Dias']\n",
    "\n",
    "paidUltDia = visitasUltDia.loc[visitasUltDia['channel'] == 'Paid']['person'].value_counts().to_frame()\n",
    "paidUltDia.columns = ['CanalPagoUltDia']\n",
    "\n",
    "#dfPredictor = dfPredictor.join(paidUlt15Dias, how = 'left', on = 'person').fillna(value = 0)\n",
    "#dfPredictor = dfPredictor.join(paidUlt5Dias, how = 'left', on = 'person').fillna(value = 0)\n",
    "#dfPredictor = dfPredictor.join(paidUltDia, how = 'left', on = 'person').fillna(value = 0)\n",
    "\n",
    "# Organic\n",
    "\n",
    "organicUlt15Dias = visitasUlt15Dias.loc[visitasUlt15Dias['channel'] == 'Organic']['person'].value_counts().to_frame()\n",
    "organicUlt15Dias.columns = ['CanalOrganicoUlt15Dias']\n",
    "\n",
    "organicUlt5Dias = visitasUlt5Dias.loc[visitasUlt5Dias['channel'] == 'Organic']['person'].value_counts().to_frame()\n",
    "organicUlt5Dias.columns = ['CanalOrganicoUlt5Dias']\n",
    "\n",
    "organicUltDia = visitasUltDia.loc[visitasUltDia['channel'] == 'Organic']['person'].value_counts().to_frame()\n",
    "organicUltDia.columns = ['CanalOrganicoUltDia']\n",
    "\n",
    "#dfPredictor = dfPredictor.join(organicUlt15Dias, how = 'left', on = 'person').fillna(value = 0)\n",
    "#dfPredictor = dfPredictor.join(organicUlt5Dias, how = 'left', on = 'person').fillna(value = 0)\n",
    "#dfPredictor = dfPredictor.join(organicUltDia, how = 'left', on = 'person').fillna(value = 0)\n",
    "\n",
    "# Direct\n",
    "\n",
    "directUlt15Dias = visitasUlt15Dias.loc[visitasUlt15Dias['channel'] == 'Direct']['person'].value_counts().to_frame()\n",
    "directUlt15Dias.columns = ['CanalDirectoUlt15Dias']\n",
    "\n",
    "directUlt5Dias = visitasUlt5Dias.loc[visitasUlt5Dias['channel'] == 'Direct']['person'].value_counts().to_frame()\n",
    "directUlt5Dias.columns = ['CanalDirectoUlt5Dias']\n",
    "\n",
    "directUltDia = visitasUltDia.loc[visitasUltDia['channel'] == 'Direct']['person'].value_counts().to_frame()\n",
    "directUltDia.columns = ['CanalDirectoUltDia']\n",
    "\n",
    "#dfPredictor = dfPredictor.join(directUlt15Dias, how = 'left', on = 'person').fillna(value = 0)\n",
    "dfPredictor = dfPredictor.join(directUlt5Dias, how = 'left', on = 'person').fillna(value = 0)\n",
    "#dfPredictor = dfPredictor.join(directUltDia, how = 'left', on = 'person').fillna(value = 0)\n",
    "\n",
    "# Separo los labels locales\n",
    "dfPredictorLocal = dfPredictor.join(labels, how = 'inner')"
   ]
  },
  {
   "cell_type": "markdown",
   "metadata": {},
   "source": [
    "Paid, Organic, Direct, Referral, Social, Email, Unknown"
   ]
  },
  {
   "cell_type": "code",
   "execution_count": 129,
   "metadata": {},
   "outputs": [],
   "source": [
    "X, y = dfPredictorLocal.iloc[:,:-1], dfPredictorLocal.iloc[:,-1:]\n",
    "X_train, X_test, y_train, y_test = train_test_split(X, y, test_size=0.2, random_state=123)"
   ]
  },
  {
   "cell_type": "code",
   "execution_count": 130,
   "metadata": {},
   "outputs": [
    {
     "data": {
      "text/plain": [
       "0.84916259063696276"
      ]
     },
     "execution_count": 130,
     "metadata": {},
     "output_type": "execute_result"
    }
   ],
   "source": [
    "xg_reg = xgb.XGBRegressor(objective ='reg:linear', \n",
    "                            colsample_bytree = 0.3, learning_rate = 0.05,\n",
    "                            max_depth = 4, alpha = 10, n_estimators = 180)\n",
    "xg_reg.fit(X_train,y_train)\n",
    "preds = xg_reg.predict(X_test)\n",
    "#preds[preds < 0.009] = 0\n",
    "roc_auc_score(y_test, preds)"
   ]
  },
  {
   "cell_type": "code",
   "execution_count": 131,
   "metadata": {},
   "outputs": [],
   "source": [
    "kaggle = pd.read_csv('trocafone_kaggle_test.csv', low_memory = False)\n",
    "kaggle = kaggle.set_index('person')\n",
    "dfPredictorSubmit = dfPredictor.join(kaggle, how = 'inner')\n",
    "predsSubmit = xg_reg.predict(dfPredictorSubmit)\n",
    "predsSubmit[predsSubmit < 0 ] = 0\n",
    "predsSubmit[predsSubmit > 1] = 1\n",
    "dfPredictorSubmit['label'] = predsSubmit\n",
    "dfPredictorSubmit['label'].to_frame().to_csv('submit.csv')"
   ]
  },
  {
   "cell_type": "code",
   "execution_count": null,
   "metadata": {},
   "outputs": [],
   "source": []
  },
  {
   "cell_type": "code",
   "execution_count": 349,
   "metadata": {
    "scrolled": true
   },
   "outputs": [
    {
     "data": {
      "image/png": "[encoded data removed]",
      "text/plain": [
       "<Figure size 720x720 with 1 Axes>"
      ]
     },
     "metadata": {},
     "output_type": "display_data"
    }
   ],
   "source": [
    "\n",
    "xgb.plot_importance(xg_reg)\n",
    "plt.rcParams['figure.figsize'] = [10, 10]\n",
    "plt.show()"
   ]
  }
 ],
 "metadata": {
  "kernelspec": {
   "display_name": "Python 3",
   "language": "python",
   "name": "python3"
  },
  "language_info": {
   "codemirror_mode": {
    "name": "ipython",
    "version": 3
   },
   "file_extension": ".py",
   "mimetype": "text/x-python",
   "name": "python",
   "nbconvert_exporter": "python",
   "pygments_lexer": "ipython3",
   "version": "3.6.5"
  }
 },
 "nbformat": 4,
 "nbformat_minor": 2
}
